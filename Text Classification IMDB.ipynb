{
 "cells": [
  {
   "cell_type": "markdown",
   "id": "14486adb",
   "metadata": {},
   "source": [
    "Project Title: Sentiment Analysis of IMDB Movie Review Dataset\n",
    "\n",
    "The main aim of the project is to analyze the moview review data set to understand the sentiemnt or emotion expressed in the review and build a classification model that can accurately classify the sentiment of a given text into predefined category such as positive or negative. \n",
    "Sentiment analysis can be used in solving various business problems such as Sentiment CLassification, Understanding the customer feedback, Monitoring social media, Research market trends, Financial, Political and Social analysis and so on.\n",
    "\n",
    "The main tasks to be performed in this project are:\n",
    "1. Analyze the data to understand what the data represents and how it can be transformed according to the end goals of the project.\n",
    "2. Preprocessing the data by removing irrelevant and special characters using a combination of Regex and NLTK.\n",
    "3. Tokenization of the text, Removal of stop words and lemmatization to reduce the words to their base forms.\n",
    "4. Using TF-IDF to convert the tokenized text into numerical features that the machine learning model can understand.\n",
    "5. Model selection, Training and Evaluation.\n",
    "6. Model deployment.\n",
    "    "
   ]
  },
  {
   "cell_type": "code",
   "execution_count": 1,
   "id": "7f9c18d0",
   "metadata": {},
   "outputs": [
    {
     "name": "stderr",
     "output_type": "stream",
     "text": [
      "C:\\Users\\isunn\\AppData\\Local\\Programs\\Python\\Python39\\lib\\site-packages\\scipy\\__init__.py:146: UserWarning: A NumPy version >=1.16.5 and <1.23.0 is required for this version of SciPy (detected version 1.24.3\n",
      "  warnings.warn(f\"A NumPy version >={np_minversion} and <{np_maxversion}\"\n"
     ]
    }
   ],
   "source": [
    "#Importing necessary libraries\n",
    "import pandas as pd\n",
    "import string\n",
    "import seaborn as sns\n",
    "import plotly as plt\n",
    "import nltk\n",
    "from nltk.corpus import stopwords\n",
    "from nltk import word_tokenize\n",
    "from collections import Counter\n",
    "import warnings\n",
    "warnings.filterwarnings(\"ignore\")"
   ]
  },
  {
   "cell_type": "raw",
   "id": "28392a1c",
   "metadata": {},
   "source": [
    "Initial review of the dataset to understand the data."
   ]
  },
  {
   "cell_type": "code",
   "execution_count": 2,
   "id": "64180d02",
   "metadata": {},
   "outputs": [],
   "source": [
    "df = pd.read_csv(\"IMDB Dataset.csv\")"
   ]
  },
  {
   "cell_type": "code",
   "execution_count": 3,
   "id": "7936599d",
   "metadata": {},
   "outputs": [
    {
     "name": "stdout",
     "output_type": "stream",
     "text": [
      "Total number of elements in the dataframe: 100000\n"
     ]
    }
   ],
   "source": [
    "print(f\"Total number of elements in the dataframe: {df.size}\")"
   ]
  },
  {
   "cell_type": "code",
   "execution_count": 4,
   "id": "6aea1181",
   "metadata": {},
   "outputs": [
    {
     "name": "stdout",
     "output_type": "stream",
     "text": [
      "The shape of the dataframe: (50000, 2)\n"
     ]
    }
   ],
   "source": [
    "print(f\"The shape of the dataframe: {df.shape}\")"
   ]
  },
  {
   "cell_type": "code",
   "execution_count": 5,
   "id": "3fff0954",
   "metadata": {},
   "outputs": [
    {
     "name": "stdout",
     "output_type": "stream",
     "text": [
      "<class 'pandas.core.frame.DataFrame'>\n",
      "RangeIndex: 50000 entries, 0 to 49999\n",
      "Data columns (total 2 columns):\n",
      " #   Column     Non-Null Count  Dtype \n",
      "---  ------     --------------  ----- \n",
      " 0   review     50000 non-null  object\n",
      " 1   sentiment  50000 non-null  object\n",
      "dtypes: object(2)\n",
      "memory usage: 781.4+ KB\n"
     ]
    }
   ],
   "source": [
    "df.info()"
   ]
  },
  {
   "cell_type": "code",
   "execution_count": 6,
   "id": "a18f7b03",
   "metadata": {},
   "outputs": [
    {
     "data": {
      "text/plain": [
       "review       0\n",
       "sentiment    0\n",
       "dtype: int64"
      ]
     },
     "execution_count": 6,
     "metadata": {},
     "output_type": "execute_result"
    }
   ],
   "source": [
    "df.isna().sum()"
   ]
  },
  {
   "cell_type": "code",
   "execution_count": 7,
   "id": "a7c3f80a",
   "metadata": {},
   "outputs": [
    {
     "data": {
      "text/plain": [
       "positive    25000\n",
       "negative    25000\n",
       "Name: sentiment, dtype: int64"
      ]
     },
     "execution_count": 7,
     "metadata": {},
     "output_type": "execute_result"
    }
   ],
   "source": [
    "df[\"sentiment\"].value_counts()"
   ]
  },
  {
   "cell_type": "code",
   "execution_count": 8,
   "id": "0e61c82a",
   "metadata": {},
   "outputs": [
    {
     "data": {
      "text/html": [
       "<div>\n",
       "<style scoped>\n",
       "    .dataframe tbody tr th:only-of-type {\n",
       "        vertical-align: middle;\n",
       "    }\n",
       "\n",
       "    .dataframe tbody tr th {\n",
       "        vertical-align: top;\n",
       "    }\n",
       "\n",
       "    .dataframe thead th {\n",
       "        text-align: right;\n",
       "    }\n",
       "</style>\n",
       "<table border=\"1\" class=\"dataframe\">\n",
       "  <thead>\n",
       "    <tr style=\"text-align: right;\">\n",
       "      <th></th>\n",
       "      <th>review</th>\n",
       "      <th>sentiment</th>\n",
       "    </tr>\n",
       "  </thead>\n",
       "  <tbody>\n",
       "    <tr>\n",
       "      <th>18809</th>\n",
       "      <td>&lt;br /&gt;&lt;br /&gt;There is STAR TREK canon -- lots o...</td>\n",
       "      <td>positive</td>\n",
       "    </tr>\n",
       "    <tr>\n",
       "      <th>16762</th>\n",
       "      <td>Scott's collection of 80's icons cannot save t...</td>\n",
       "      <td>negative</td>\n",
       "    </tr>\n",
       "    <tr>\n",
       "      <th>15413</th>\n",
       "      <td>Greetings again from the darkness. Director Al...</td>\n",
       "      <td>positive</td>\n",
       "    </tr>\n",
       "    <tr>\n",
       "      <th>15146</th>\n",
       "      <td>The story of Ned Kelly has been enshrouded in ...</td>\n",
       "      <td>positive</td>\n",
       "    </tr>\n",
       "    <tr>\n",
       "      <th>3612</th>\n",
       "      <td>I normally do not take the time to make commen...</td>\n",
       "      <td>negative</td>\n",
       "    </tr>\n",
       "    <tr>\n",
       "      <th>48278</th>\n",
       "      <td>Elvis Presley plays a \"half-breed\" Native Amer...</td>\n",
       "      <td>negative</td>\n",
       "    </tr>\n",
       "    <tr>\n",
       "      <th>37752</th>\n",
       "      <td>The sounds in the movie were so mundane and ri...</td>\n",
       "      <td>negative</td>\n",
       "    </tr>\n",
       "    <tr>\n",
       "      <th>47311</th>\n",
       "      <td>The Patriot (nothing to do with the Mel Gibson...</td>\n",
       "      <td>negative</td>\n",
       "    </tr>\n",
       "    <tr>\n",
       "      <th>18070</th>\n",
       "      <td>To a certain extent, I actually liked this fil...</td>\n",
       "      <td>positive</td>\n",
       "    </tr>\n",
       "    <tr>\n",
       "      <th>32044</th>\n",
       "      <td>Uggh! I really wasn't that impressed by this f...</td>\n",
       "      <td>positive</td>\n",
       "    </tr>\n",
       "    <tr>\n",
       "      <th>21835</th>\n",
       "      <td>This movie is a should-be classic. It's not pe...</td>\n",
       "      <td>positive</td>\n",
       "    </tr>\n",
       "    <tr>\n",
       "      <th>19030</th>\n",
       "      <td>Daniell Steel's Daddy, what a refreshing story...</td>\n",
       "      <td>positive</td>\n",
       "    </tr>\n",
       "    <tr>\n",
       "      <th>1912</th>\n",
       "      <td>First of all, nothing will ever compare to the...</td>\n",
       "      <td>positive</td>\n",
       "    </tr>\n",
       "    <tr>\n",
       "      <th>42158</th>\n",
       "      <td>This is not as funny and gory as the DVD box c...</td>\n",
       "      <td>negative</td>\n",
       "    </tr>\n",
       "    <tr>\n",
       "      <th>19087</th>\n",
       "      <td>The main attraction of Anywhere but Here is th...</td>\n",
       "      <td>positive</td>\n",
       "    </tr>\n",
       "    <tr>\n",
       "      <th>30971</th>\n",
       "      <td>I can remember this movie from when i was a sm...</td>\n",
       "      <td>positive</td>\n",
       "    </tr>\n",
       "    <tr>\n",
       "      <th>30298</th>\n",
       "      <td>Five-year-old Michael sees his mother getting ...</td>\n",
       "      <td>negative</td>\n",
       "    </tr>\n",
       "    <tr>\n",
       "      <th>29437</th>\n",
       "      <td>I saw this on a flight over to the U.S and was...</td>\n",
       "      <td>positive</td>\n",
       "    </tr>\n",
       "    <tr>\n",
       "      <th>14659</th>\n",
       "      <td>This is just as good as the original 101 if no...</td>\n",
       "      <td>positive</td>\n",
       "    </tr>\n",
       "    <tr>\n",
       "      <th>35431</th>\n",
       "      <td>This film is exceptional in that Marlene &amp; Ray...</td>\n",
       "      <td>positive</td>\n",
       "    </tr>\n",
       "    <tr>\n",
       "      <th>32504</th>\n",
       "      <td>How this film gains a 6.7 rating is beyond bel...</td>\n",
       "      <td>negative</td>\n",
       "    </tr>\n",
       "    <tr>\n",
       "      <th>2988</th>\n",
       "      <td>WOW! Pretty terrible stuff. The Richard Burton...</td>\n",
       "      <td>negative</td>\n",
       "    </tr>\n",
       "    <tr>\n",
       "      <th>49791</th>\n",
       "      <td>The college teacher Larry Donner (Billy Crista...</td>\n",
       "      <td>positive</td>\n",
       "    </tr>\n",
       "    <tr>\n",
       "      <th>28263</th>\n",
       "      <td>Dean Koontz's book \"Watchers\" is one of the fi...</td>\n",
       "      <td>negative</td>\n",
       "    </tr>\n",
       "    <tr>\n",
       "      <th>38252</th>\n",
       "      <td>I absolutely hated this movie! I was 9 when I ...</td>\n",
       "      <td>negative</td>\n",
       "    </tr>\n",
       "    <tr>\n",
       "      <th>22556</th>\n",
       "      <td>I've just seen it....for those who don't know ...</td>\n",
       "      <td>positive</td>\n",
       "    </tr>\n",
       "    <tr>\n",
       "      <th>8438</th>\n",
       "      <td>this movie was clearly done poorly and in a ru...</td>\n",
       "      <td>negative</td>\n",
       "    </tr>\n",
       "    <tr>\n",
       "      <th>41782</th>\n",
       "      <td>My Super X-Girlfriend is one hell of a roller ...</td>\n",
       "      <td>positive</td>\n",
       "    </tr>\n",
       "    <tr>\n",
       "      <th>17094</th>\n",
       "      <td>Made at the height of the Black Power movement...</td>\n",
       "      <td>positive</td>\n",
       "    </tr>\n",
       "    <tr>\n",
       "      <th>18861</th>\n",
       "      <td>I like silent films, but this was a little too...</td>\n",
       "      <td>negative</td>\n",
       "    </tr>\n",
       "    <tr>\n",
       "      <th>19835</th>\n",
       "      <td>I saw this again today for the first time in a...</td>\n",
       "      <td>positive</td>\n",
       "    </tr>\n",
       "    <tr>\n",
       "      <th>46913</th>\n",
       "      <td>There are so many incorrect statements in this...</td>\n",
       "      <td>negative</td>\n",
       "    </tr>\n",
       "    <tr>\n",
       "      <th>34332</th>\n",
       "      <td>Mario Racocevic from Europe is the only user w...</td>\n",
       "      <td>negative</td>\n",
       "    </tr>\n",
       "    <tr>\n",
       "      <th>20667</th>\n",
       "      <td>Ghost Story,(The New House) is a terrific horr...</td>\n",
       "      <td>positive</td>\n",
       "    </tr>\n",
       "    <tr>\n",
       "      <th>10324</th>\n",
       "      <td>Verry classic plot but a verry fun horror movi...</td>\n",
       "      <td>positive</td>\n",
       "    </tr>\n",
       "    <tr>\n",
       "      <th>36250</th>\n",
       "      <td>I don't need to say much about how good this d...</td>\n",
       "      <td>positive</td>\n",
       "    </tr>\n",
       "    <tr>\n",
       "      <th>29599</th>\n",
       "      <td>How many of us have read a book or seen a play...</td>\n",
       "      <td>positive</td>\n",
       "    </tr>\n",
       "    <tr>\n",
       "      <th>45972</th>\n",
       "      <td>I was unlucky enough to have seen this at the ...</td>\n",
       "      <td>negative</td>\n",
       "    </tr>\n",
       "    <tr>\n",
       "      <th>30001</th>\n",
       "      <td>This is one of the silliest movies I have ever...</td>\n",
       "      <td>negative</td>\n",
       "    </tr>\n",
       "    <tr>\n",
       "      <th>47614</th>\n",
       "      <td>Recently released on British DVD, this is a go...</td>\n",
       "      <td>positive</td>\n",
       "    </tr>\n",
       "    <tr>\n",
       "      <th>28345</th>\n",
       "      <td>This has got to be one of my very favorite Twi...</td>\n",
       "      <td>positive</td>\n",
       "    </tr>\n",
       "    <tr>\n",
       "      <th>11093</th>\n",
       "      <td>Between the ages of 30 and 51, when he died of...</td>\n",
       "      <td>positive</td>\n",
       "    </tr>\n",
       "    <tr>\n",
       "      <th>22011</th>\n",
       "      <td>The third and last film of this trilogy is fin...</td>\n",
       "      <td>positive</td>\n",
       "    </tr>\n",
       "    <tr>\n",
       "      <th>21727</th>\n",
       "      <td>\"Subspecies,\" like many other horror films, ge...</td>\n",
       "      <td>positive</td>\n",
       "    </tr>\n",
       "    <tr>\n",
       "      <th>24159</th>\n",
       "      <td>I really enjoyed this movie. It challenged my ...</td>\n",
       "      <td>positive</td>\n",
       "    </tr>\n",
       "    <tr>\n",
       "      <th>27062</th>\n",
       "      <td>This is a true \"80's movie\": Back then they ma...</td>\n",
       "      <td>positive</td>\n",
       "    </tr>\n",
       "    <tr>\n",
       "      <th>13345</th>\n",
       "      <td>This is a pretty good documentary. I'm not a s...</td>\n",
       "      <td>positive</td>\n",
       "    </tr>\n",
       "    <tr>\n",
       "      <th>44024</th>\n",
       "      <td>I have a little hobby of finding really cool p...</td>\n",
       "      <td>positive</td>\n",
       "    </tr>\n",
       "    <tr>\n",
       "      <th>26204</th>\n",
       "      <td>I may very well be one of the few who really s...</td>\n",
       "      <td>positive</td>\n",
       "    </tr>\n",
       "    <tr>\n",
       "      <th>2533</th>\n",
       "      <td>Kurosawa, fresh into color, losses sight of hi...</td>\n",
       "      <td>positive</td>\n",
       "    </tr>\n",
       "  </tbody>\n",
       "</table>\n",
       "</div>"
      ],
      "text/plain": [
       "                                                  review sentiment\n",
       "18809  <br /><br />There is STAR TREK canon -- lots o...  positive\n",
       "16762  Scott's collection of 80's icons cannot save t...  negative\n",
       "15413  Greetings again from the darkness. Director Al...  positive\n",
       "15146  The story of Ned Kelly has been enshrouded in ...  positive\n",
       "3612   I normally do not take the time to make commen...  negative\n",
       "48278  Elvis Presley plays a \"half-breed\" Native Amer...  negative\n",
       "37752  The sounds in the movie were so mundane and ri...  negative\n",
       "47311  The Patriot (nothing to do with the Mel Gibson...  negative\n",
       "18070  To a certain extent, I actually liked this fil...  positive\n",
       "32044  Uggh! I really wasn't that impressed by this f...  positive\n",
       "21835  This movie is a should-be classic. It's not pe...  positive\n",
       "19030  Daniell Steel's Daddy, what a refreshing story...  positive\n",
       "1912   First of all, nothing will ever compare to the...  positive\n",
       "42158  This is not as funny and gory as the DVD box c...  negative\n",
       "19087  The main attraction of Anywhere but Here is th...  positive\n",
       "30971  I can remember this movie from when i was a sm...  positive\n",
       "30298  Five-year-old Michael sees his mother getting ...  negative\n",
       "29437  I saw this on a flight over to the U.S and was...  positive\n",
       "14659  This is just as good as the original 101 if no...  positive\n",
       "35431  This film is exceptional in that Marlene & Ray...  positive\n",
       "32504  How this film gains a 6.7 rating is beyond bel...  negative\n",
       "2988   WOW! Pretty terrible stuff. The Richard Burton...  negative\n",
       "49791  The college teacher Larry Donner (Billy Crista...  positive\n",
       "28263  Dean Koontz's book \"Watchers\" is one of the fi...  negative\n",
       "38252  I absolutely hated this movie! I was 9 when I ...  negative\n",
       "22556  I've just seen it....for those who don't know ...  positive\n",
       "8438   this movie was clearly done poorly and in a ru...  negative\n",
       "41782  My Super X-Girlfriend is one hell of a roller ...  positive\n",
       "17094  Made at the height of the Black Power movement...  positive\n",
       "18861  I like silent films, but this was a little too...  negative\n",
       "19835  I saw this again today for the first time in a...  positive\n",
       "46913  There are so many incorrect statements in this...  negative\n",
       "34332  Mario Racocevic from Europe is the only user w...  negative\n",
       "20667  Ghost Story,(The New House) is a terrific horr...  positive\n",
       "10324  Verry classic plot but a verry fun horror movi...  positive\n",
       "36250  I don't need to say much about how good this d...  positive\n",
       "29599  How many of us have read a book or seen a play...  positive\n",
       "45972  I was unlucky enough to have seen this at the ...  negative\n",
       "30001  This is one of the silliest movies I have ever...  negative\n",
       "47614  Recently released on British DVD, this is a go...  positive\n",
       "28345  This has got to be one of my very favorite Twi...  positive\n",
       "11093  Between the ages of 30 and 51, when he died of...  positive\n",
       "22011  The third and last film of this trilogy is fin...  positive\n",
       "21727  \"Subspecies,\" like many other horror films, ge...  positive\n",
       "24159  I really enjoyed this movie. It challenged my ...  positive\n",
       "27062  This is a true \"80's movie\": Back then they ma...  positive\n",
       "13345  This is a pretty good documentary. I'm not a s...  positive\n",
       "44024  I have a little hobby of finding really cool p...  positive\n",
       "26204  I may very well be one of the few who really s...  positive\n",
       "2533   Kurosawa, fresh into color, losses sight of hi...  positive"
      ]
     },
     "execution_count": 8,
     "metadata": {},
     "output_type": "execute_result"
    }
   ],
   "source": [
    "df.sample(50)"
   ]
  },
  {
   "cell_type": "markdown",
   "id": "9c726068",
   "metadata": {},
   "source": [
    "The intitial analysis of the data reveals the following details:\n",
    "\n",
    "1. The data consists of 50k movie reviews and their respective sentiment.\n",
    "2. The data is quite balanced with 25k sentiments for each of the sentiments.\n",
    "3. There is no missing data in the data set.\n",
    "4. The data contains some noise which needs to be cleaned. \n",
    "\n",
    "Overall, the data looks good enough for further analysis."
   ]
  },
  {
   "cell_type": "markdown",
   "id": "5827d400",
   "metadata": {},
   "source": [
    "Cleaning and Structuring of the data."
   ]
  },
  {
   "cell_type": "code",
   "execution_count": 9,
   "id": "fc3e8299",
   "metadata": {},
   "outputs": [],
   "source": [
    "#converting the sentiments and reviews to lower case\n",
    "df[\"sentiment\"] = df[\"sentiment\"].str.lower()"
   ]
  },
  {
   "cell_type": "code",
   "execution_count": 10,
   "id": "0af1b12c",
   "metadata": {},
   "outputs": [],
   "source": [
    "df[\"review\"] = df[\"review\"].apply(lambda x: x.lower())"
   ]
  },
  {
   "cell_type": "code",
   "execution_count": 11,
   "id": "ddef1894",
   "metadata": {},
   "outputs": [
    {
     "data": {
      "text/plain": [
       "49915    what an utter disappointment. forget this abys...\n",
       "32925    i think that saying this film has too many is ...\n",
       "21658    the movie is not as funny as the director's pr...\n",
       "15397    even if you're a huge sandler fan, please don'...\n",
       "33537    the brain (or head) that wouldn't die is one o...\n",
       "43346    cb4 was awful, but it may have given cundieff ...\n",
       "10746    this film features two of my favorite guilty p...\n",
       "13409    another movie from swedish hillbilly country, ...\n",
       "13422    ms aparna sen, the maker of mr & mrs iyer, dir...\n",
       "9074     stanley stupid (tom arnold) and his wife, joan...\n",
       "25206    steve carell once again stars in a light roman...\n",
       "34683    i happened upon this flick on a rainy sunday, ...\n",
       "373      owen loves his mamma...only he'd love her bett...\n",
       "6858     i somehow missed this movie when it came out a...\n",
       "25614    you know you're in for something different whe...\n",
       "44317    i cant describe how terrible this movie is. am...\n",
       "31831    i originally reviewed this film on amazon abou...\n",
       "47016    horrendous! avoid like the plague. i would rat...\n",
       "41148    as i saw the movie i was really shocked to see...\n",
       "36619    truly terrible, pretentious, endless film. dir...\n",
       "19397    why is impossible to write in french ? very ki...\n",
       "45881    this is truly one of the most awful movies of ...\n",
       "36199    what an appalling film. don't get me wrong, ge...\n",
       "1281     i like many others saw this as a child and i l...\n",
       "43925    it takes a rare movie to get better each time ...\n",
       "15736    i really wanted to like this movie, but the pa...\n",
       "3823     this movie was beyond disappointment. well act...\n",
       "34745    this is a well made informative film in the ve...\n",
       "41470    masters of horror: the screwfly solution start...\n",
       "17103    based on the elmore leonard novel of the same ...\n",
       "41073    <br /><br />filmed just after the war, this st...\n",
       "4397     when i was younger, this movie always aired on...\n",
       "34693    the film is a great watch very thoughtful.i be...\n",
       "5080     it does not surprise me that this short (91 mi...\n",
       "25829    i have just watched this movie for the first t...\n",
       "48100    i love this movie! it has everything! bonnie h...\n",
       "18901    apart from the da (james eckhouse), and a brie...\n",
       "3477     this is bad movie. there is no denying it as m...\n",
       "25125    after watching this for 15 minutes i knew how ...\n",
       "42923    i remember this movie with feelings of sheer ....\n",
       "10420    this was okay, but really a bit disappointing ...\n",
       "18222    i liked this movies. its a another yash raj fi...\n",
       "43298    on the contrary to the person listed above me ...\n",
       "21435    a warning to potential viewers of this experim...\n",
       "37574    this was bollywood's answer to fatal attractio...\n",
       "45005    i read all the reviews here after watching thi...\n",
       "13928    for those that were interested in knowing how ...\n",
       "44623    alain resnais directs three parallel stories t...\n",
       "48015    my friends and i rented that movie last night ...\n",
       "3603     this movie is most possibly the worst movie i ...\n",
       "Name: review, dtype: object"
      ]
     },
     "execution_count": 11,
     "metadata": {},
     "output_type": "execute_result"
    }
   ],
   "source": [
    "#checking a sample of the data to make sure the text is converted into lower case\n",
    "df[\"review\"].sample(50)"
   ]
  },
  {
   "cell_type": "code",
   "execution_count": 12,
   "id": "84a007da",
   "metadata": {},
   "outputs": [],
   "source": [
    "#using regex to remove all charachters that are not alphabets\n",
    "import re\n",
    "pattern = r'[^a-zA-Z0-9\\s]'\n",
    "df[\"review\"] = df[\"review\"].apply(lambda x: re.sub(pattern, \"\", x))"
   ]
  },
  {
   "cell_type": "code",
   "execution_count": 13,
   "id": "9d152a78",
   "metadata": {},
   "outputs": [],
   "source": [
    "#removing all  punctuation using regex\n",
    "punctuation_pattern = r'[^\\w\\s]'\n",
    "df[\"review\"] = df[\"review\"].apply(lambda x: re.sub(punctuation_pattern, \"\",x))"
   ]
  },
  {
   "cell_type": "code",
   "execution_count": 14,
   "id": "e713cffb",
   "metadata": {},
   "outputs": [],
   "source": [
    "#removing numbers and html tags\n",
    "number_pattern =  r'\\d+'\n",
    "df[\"review\"] = df[\"review\"].apply(lambda x: re.sub(number_pattern, \"\", x))"
   ]
  },
  {
   "cell_type": "code",
   "execution_count": 15,
   "id": "282de3f7",
   "metadata": {},
   "outputs": [],
   "source": [
    "#remove html tags\n",
    "html_pattern = r'<[^>]+>'\n",
    "df[\"review\"] = df[\"review\"].apply(lambda x: re.sub(html_pattern, \"\",x))"
   ]
  },
  {
   "cell_type": "code",
   "execution_count": 16,
   "id": "2e3646c7",
   "metadata": {},
   "outputs": [
    {
     "data": {
      "text/plain": [
       "40339    words fail me this film was extremely difficul...\n",
       "4720     a message movie but a rather good one outstand...\n",
       "5936     this may be the worst show ive ever seen aside...\n",
       "29315    the acting in this movie was superb as an amat...\n",
       "21695    not as well known as the english american germ...\n",
       "42262    ill start with what i likedbr br i really like...\n",
       "24236    welcome to collinwood is one of the most delig...\n",
       "18596    this is one for the golden turkey book its ano...\n",
       "21749    antitrust could have been a great vehicle for ...\n",
       "14783    one of the best movies for all ages you will n...\n",
       "21272    awful film terrible acting cheesy totally unre...\n",
       "3988     dude really where have you guys been the past ...\n",
       "29524    also titled the magical castle this one is a s...\n",
       "44235    when alfred hitchcock made strangers on a trai...\n",
       "48708    this is the essence of the early eighties the ...\n",
       "13846    near the closing stages of baby mama one of th...\n",
       "18236    i wont say the show is all bad because there a...\n",
       "33446    i am completely appalled to see that the avera...\n",
       "13810    this movie is a picture perfect actiondramaand...\n",
       "39157    i can remember seeing this movie as a kid in  ...\n",
       "Name: review, dtype: object"
      ]
     },
     "execution_count": 16,
     "metadata": {},
     "output_type": "execute_result"
    }
   ],
   "source": [
    "df[\"review\"].sample(20)"
   ]
  },
  {
   "cell_type": "code",
   "execution_count": 17,
   "id": "fdfedd00",
   "metadata": {},
   "outputs": [
    {
     "name": "stderr",
     "output_type": "stream",
     "text": [
      "[nltk_data] Downloading package stopwords to\n",
      "[nltk_data]     C:\\Users\\isunn\\AppData\\Roaming\\nltk_data...\n",
      "[nltk_data]   Package stopwords is already up-to-date!\n"
     ]
    },
    {
     "data": {
      "text/plain": [
       "True"
      ]
     },
     "execution_count": 17,
     "metadata": {},
     "output_type": "execute_result"
    }
   ],
   "source": [
    "#removing stopwords using nltk\n",
    "nltk.download(\"stopwords\")"
   ]
  },
  {
   "cell_type": "code",
   "execution_count": 18,
   "id": "26f51f19",
   "metadata": {},
   "outputs": [],
   "source": [
    "def remove_stopwords(text):\n",
    "    stop_words = set(stopwords.words(\"english\"))\n",
    "    words = text.split()\n",
    "    filtered_words = [word for word in words if word.lower() not in stop_words]\n",
    "    return \" \".join(filtered_words)"
   ]
  },
  {
   "cell_type": "code",
   "execution_count": 19,
   "id": "fe1a7f74",
   "metadata": {},
   "outputs": [],
   "source": [
    "df[\"review\"] = df[\"review\"].apply(remove_stopwords)"
   ]
  },
  {
   "cell_type": "code",
   "execution_count": 20,
   "id": "77305bf5",
   "metadata": {},
   "outputs": [
    {
     "data": {
      "text/plain": [
       "21099    never heard film prior coming across perusing ...\n",
       "48178    first positives excellent job depicting urban ...\n",
       "12671    generally loved carry movies one actually pret...\n",
       "30265    another bad spanish picture baaaad save photog...\n",
       "38657    br br excellent think back long time find film...\n",
       "11577    third collaboration karloff lugosi sees move a...\n",
       "1658     yes know movie meant comedy humor top theme pe...\n",
       "14373    awful lot wrong picture beginning script obvio...\n",
       "24370    consuming human pork chop properly digesting f...\n",
       "4814     decided watch movie noted scariest movie ever ...\n",
       "18220    dialogue pretty dreadful plot really inspired ...\n",
       "10843    normally try avoid scifi movies much isnt genr...\n",
       "25018    really dont understand movie aimed absurdity m...\n",
       "24320    soiler fake whole thing fake ghosts zombies al...\n",
       "13874    friend mine bought cheaply decided give birthd...\n",
       "1569     okay really tried tap called silly surreal hum...\n",
       "25475    curiosity patience finally see controversial f...\n",
       "5374     liked better house party cast hilarious cool t...\n",
       "43856    first let start saying devoted follower c thom...\n",
       "378      doesnt happen often occasionally one man make ...\n",
       "39646    helen kate capshaw owns bookstore sleepy coast...\n",
       "9175     friend works blockbuster gets free movie renta...\n",
       "12946    film true historical film useful researching l...\n",
       "21857    comes time every big name actors career get sl...\n",
       "1769     say worst movie ever watched life cannot belie...\n",
       "47187    blow hot cold carn really puzzle think perhaps...\n",
       "4367     years hesitated watching movie know even worse...\n",
       "33107    chang chehs shaolin temple might well highwate...\n",
       "19339    waste time watching unless want study wrong th...\n",
       "48982    really truly want waste two hours life followi...\n",
       "1841     agree comments saw movie years ago christopher...\n",
       "21192    go see movie zombies im expecting oscar calibr...\n",
       "8138     approximately second thomas edisonproduced sho...\n",
       "17896    bought movie dollars local flea market thought...\n",
       "20865    unsung quiet gem tells true story pow escape w...\n",
       "28685    overall movie dreadful never made one problems...\n",
       "13752    hated film simply put film bad almost want dis...\n",
       "7853     strong woman oriented subject long director kr...\n",
       "35627    failure complete make angrybr br subtlety stru...\n",
       "2196     least one kind human moving teach lesson anyth...\n",
       "8938     delighted find tcm showing love version josie ...\n",
       "27655    principally story two men part portuguese revo...\n",
       "34175    priyadarshan whenever person heard name first ...\n",
       "8370     man white suit done america cant see either da...\n",
       "48762    havent yet read kurt vonnegut book adapted fam...\n",
       "5578     im surprised noone thought movie like horror o...\n",
       "572      attended advance screening film sure expect ke...\n",
       "30101    clunkerbr br must made tv cablebr br look forg...\n",
       "17609    early warner brothers talkie son gods deals ra...\n",
       "11006    movie seems send wrong message morality withou...\n",
       "Name: review, dtype: object"
      ]
     },
     "execution_count": 20,
     "metadata": {},
     "output_type": "execute_result"
    }
   ],
   "source": [
    "df[\"review\"].sample(50)"
   ]
  },
  {
   "cell_type": "code",
   "execution_count": 21,
   "id": "624b0897",
   "metadata": {},
   "outputs": [],
   "source": [
    "#df2 = df.copy()"
   ]
  },
  {
   "cell_type": "code",
   "execution_count": 22,
   "id": "7b79ef82",
   "metadata": {},
   "outputs": [],
   "source": [
    "#tokenizing the text \n",
    "df[\"review\"] = df[\"review\"].apply(word_tokenize)"
   ]
  },
  {
   "cell_type": "code",
   "execution_count": 23,
   "id": "87ba2e86",
   "metadata": {},
   "outputs": [
    {
     "data": {
      "text/plain": [
       "0    [one, reviewers, mentioned, watching, oz, epis...\n",
       "1    [wonderful, little, production, br, br, filmin...\n",
       "2    [thought, wonderful, way, spend, time, hot, su...\n",
       "3    [basically, theres, family, little, boy, jake,...\n",
       "4    [petter, matteis, love, time, money, visually,...\n",
       "Name: review, dtype: object"
      ]
     },
     "execution_count": 23,
     "metadata": {},
     "output_type": "execute_result"
    }
   ],
   "source": [
    "df[\"review\"].head()"
   ]
  },
  {
   "cell_type": "code",
   "execution_count": 24,
   "id": "91ee9798",
   "metadata": {},
   "outputs": [],
   "source": [
    "#function to count most freq and least freq words\n",
    "def word_counter(df, column_name,most_common_count=20,least_common_count=20):\n",
    "    all_words = [word for sublist in df[column_name] for word in sublist]\n",
    "    word_frequency = Counter(all_words)\n",
    "    most_common_words = word_frequency.most_common(most_common_count)\n",
    "    least_common_words = word_frequency.most_common()[-least_common_count:][::-1]\n",
    "    return most_common_words,least_common_words"
   ]
  },
  {
   "cell_type": "code",
   "execution_count": 25,
   "id": "b0b2acd7",
   "metadata": {},
   "outputs": [],
   "source": [
    "most_common,least_common = word_counter(df, \"review\")\n"
   ]
  },
  {
   "cell_type": "code",
   "execution_count": 26,
   "id": "838084ee",
   "metadata": {},
   "outputs": [
    {
     "name": "stdout",
     "output_type": "stream",
     "text": [
      "The 20 most common words are: [('br', 114890), ('movie', 83523), ('film', 74459), ('one', 51028), ('like', 38992), ('good', 28570), ('even', 24576), ('would', 24024), ('time', 23269), ('really', 22951), ('see', 22535), ('story', 22097), ('much', 18947), ('well', 18798), ('get', 18205), ('great', 17821), ('also', 17818), ('bad', 17719), ('people', 17538), ('first', 17155)]\n"
     ]
    }
   ],
   "source": [
    "print(f\"The 20 most common words are: {most_common}\")\n"
   ]
  },
  {
   "cell_type": "code",
   "execution_count": 27,
   "id": "60eb81b1",
   "metadata": {},
   "outputs": [
    {
     "name": "stdout",
     "output_type": "stream",
     "text": [
      "The 20 least common words are: [('yosemitebr', 1), ('studentsthe', 1), ('horriblecatwoman', 1), ('clatter', 1), ('frenchonly', 1), ('philandererbr', 1), ('effortful', 1), ('ohsohard', 1), ('ashknenazi', 1), ('jossi', 1), ('wasamwill', 1), ('emiles', 1), ('burtolucci', 1), ('censorial', 1), ('angelyne', 1), ('nolin', 1), ('subjectivebut', 1), ('satireis', 1), ('dkman', 1), ('mottos', 1)]\n"
     ]
    }
   ],
   "source": [
    "print(f\"The 20 least common words are: {least_common}\")"
   ]
  },
  {
   "cell_type": "code",
   "execution_count": 28,
   "id": "3c337ed7",
   "metadata": {},
   "outputs": [],
   "source": [
    "from nltk.stem import WordNetLemmatizer"
   ]
  },
  {
   "cell_type": "code",
   "execution_count": 29,
   "id": "a43d7eb3",
   "metadata": {},
   "outputs": [],
   "source": [
    "lemmatizer = WordNetLemmatizer()"
   ]
  },
  {
   "cell_type": "code",
   "execution_count": 30,
   "id": "e541417c",
   "metadata": {},
   "outputs": [],
   "source": [
    "def lemmatize_tokens(tokens):\n",
    "    lemmatized_tokens = [lemmatizer.lemmatize(token) for token in tokens]\n",
    "    return lemmatized_tokens"
   ]
  },
  {
   "cell_type": "code",
   "execution_count": 31,
   "id": "81d03cdd",
   "metadata": {},
   "outputs": [],
   "source": [
    "df[\"review\"] = df[\"review\"].apply(lemmatize_tokens)"
   ]
  },
  {
   "cell_type": "code",
   "execution_count": 32,
   "id": "c38fee87",
   "metadata": {},
   "outputs": [
    {
     "data": {
      "text/plain": [
       "0    [one, reviewer, mentioned, watching, oz, episo...\n",
       "1    [wonderful, little, production, br, br, filmin...\n",
       "2    [thought, wonderful, way, spend, time, hot, su...\n",
       "3    [basically, there, family, little, boy, jake, ...\n",
       "4    [petter, matteis, love, time, money, visually,...\n",
       "Name: review, dtype: object"
      ]
     },
     "execution_count": 32,
     "metadata": {},
     "output_type": "execute_result"
    }
   ],
   "source": [
    "df[\"review\"].head()"
   ]
  },
  {
   "cell_type": "code",
   "execution_count": 33,
   "id": "6985aceb",
   "metadata": {},
   "outputs": [],
   "source": [
    "#removing all occurences of word \"br\"\n",
    "def remove_br(tokens):\n",
    "    return [token for token in tokens if token!= \"br\"]"
   ]
  },
  {
   "cell_type": "code",
   "execution_count": 34,
   "id": "497dff31",
   "metadata": {},
   "outputs": [],
   "source": [
    "df[\"review\"] = df[\"review\"].apply(remove_br)"
   ]
  },
  {
   "cell_type": "code",
   "execution_count": 35,
   "id": "24d2197e",
   "metadata": {},
   "outputs": [
    {
     "data": {
      "text/plain": [
       "0    [one, reviewer, mentioned, watching, oz, episo...\n",
       "1    [wonderful, little, production, filming, techn...\n",
       "2    [thought, wonderful, way, spend, time, hot, su...\n",
       "3    [basically, there, family, little, boy, jake, ...\n",
       "4    [petter, matteis, love, time, money, visually,...\n",
       "Name: review, dtype: object"
      ]
     },
     "execution_count": 35,
     "metadata": {},
     "output_type": "execute_result"
    }
   ],
   "source": [
    "df[\"review\"].head()"
   ]
  },
  {
   "cell_type": "code",
   "execution_count": 36,
   "id": "071b5582",
   "metadata": {},
   "outputs": [
    {
     "data": {
      "text/html": [
       "<div>\n",
       "<style scoped>\n",
       "    .dataframe tbody tr th:only-of-type {\n",
       "        vertical-align: middle;\n",
       "    }\n",
       "\n",
       "    .dataframe tbody tr th {\n",
       "        vertical-align: top;\n",
       "    }\n",
       "\n",
       "    .dataframe thead th {\n",
       "        text-align: right;\n",
       "    }\n",
       "</style>\n",
       "<table border=\"1\" class=\"dataframe\">\n",
       "  <thead>\n",
       "    <tr style=\"text-align: right;\">\n",
       "      <th></th>\n",
       "      <th>review</th>\n",
       "      <th>sentiment</th>\n",
       "    </tr>\n",
       "  </thead>\n",
       "  <tbody>\n",
       "    <tr>\n",
       "      <th>0</th>\n",
       "      <td>[one, reviewer, mentioned, watching, oz, episo...</td>\n",
       "      <td>positive</td>\n",
       "    </tr>\n",
       "    <tr>\n",
       "      <th>1</th>\n",
       "      <td>[wonderful, little, production, filming, techn...</td>\n",
       "      <td>positive</td>\n",
       "    </tr>\n",
       "    <tr>\n",
       "      <th>2</th>\n",
       "      <td>[thought, wonderful, way, spend, time, hot, su...</td>\n",
       "      <td>positive</td>\n",
       "    </tr>\n",
       "    <tr>\n",
       "      <th>3</th>\n",
       "      <td>[basically, there, family, little, boy, jake, ...</td>\n",
       "      <td>negative</td>\n",
       "    </tr>\n",
       "    <tr>\n",
       "      <th>4</th>\n",
       "      <td>[petter, matteis, love, time, money, visually,...</td>\n",
       "      <td>positive</td>\n",
       "    </tr>\n",
       "  </tbody>\n",
       "</table>\n",
       "</div>"
      ],
      "text/plain": [
       "                                              review sentiment\n",
       "0  [one, reviewer, mentioned, watching, oz, episo...  positive\n",
       "1  [wonderful, little, production, filming, techn...  positive\n",
       "2  [thought, wonderful, way, spend, time, hot, su...  positive\n",
       "3  [basically, there, family, little, boy, jake, ...  negative\n",
       "4  [petter, matteis, love, time, money, visually,...  positive"
      ]
     },
     "execution_count": 36,
     "metadata": {},
     "output_type": "execute_result"
    }
   ],
   "source": [
    "df.head()"
   ]
  },
  {
   "cell_type": "code",
   "execution_count": 37,
   "id": "56204362",
   "metadata": {},
   "outputs": [
    {
     "data": {
      "text/plain": [
       "0    [one, reviewer, mentioned, watching, oz, episo...\n",
       "1    [wonderful, little, production, filming, techn...\n",
       "2    [thought, wonderful, way, spend, time, hot, su...\n",
       "3    [basically, there, family, little, boy, jake, ...\n",
       "4    [petter, matteis, love, time, money, visually,...\n",
       "Name: review, dtype: object"
      ]
     },
     "execution_count": 37,
     "metadata": {},
     "output_type": "execute_result"
    }
   ],
   "source": [
    "df[\"review\"].head()"
   ]
  },
  {
   "cell_type": "code",
   "execution_count": 38,
   "id": "db81bd91",
   "metadata": {},
   "outputs": [],
   "source": [
    "df['review'] = df['review'].apply(lambda word_list: ' '.join(word_list))"
   ]
  },
  {
   "cell_type": "markdown",
   "id": "4e3bc345",
   "metadata": {},
   "source": [
    "The data is now preprocessed and ready to be fed into the machine learning model. The initial model is a naive bayes model."
   ]
  },
  {
   "cell_type": "code",
   "execution_count": 39,
   "id": "e77c4dd9",
   "metadata": {},
   "outputs": [],
   "source": [
    "import pandas as pd\n",
    "from sklearn.model_selection import train_test_split\n",
    "from sklearn.feature_extraction.text import TfidfVectorizer\n",
    "from sklearn.naive_bayes import MultinomialNB\n",
    "from sklearn.metrics import accuracy_score, classification_report"
   ]
  },
  {
   "cell_type": "code",
   "execution_count": 40,
   "id": "1d6320df",
   "metadata": {},
   "outputs": [],
   "source": [
    "# Splitting the dataset into training and testing sets\n",
    "X_train, X_test, y_train, y_test = train_test_split(df['review'], df['sentiment'], test_size=0.2, random_state=42)\n",
    "\n",
    "# Creating a TF-IDF vectorizer\n",
    "tfidf_vectorizer = TfidfVectorizer()\n",
    "\n",
    "# Creating the TF-IDF representation of the training data\n",
    "X_train_tfidf = tfidf_vectorizer.fit_transform(X_train)\n",
    "\n",
    "# Creating the TF-IDF representation of the testing data \n",
    "X_test_tfidf = tfidf_vectorizer.transform(X_test)\n"
   ]
  },
  {
   "cell_type": "code",
   "execution_count": 41,
   "id": "8e11c351",
   "metadata": {},
   "outputs": [
    {
     "name": "stdout",
     "output_type": "stream",
     "text": [
      "Accuracy: 0.87\n",
      "              precision    recall  f1-score   support\n",
      "\n",
      "    negative       0.85      0.88      0.87      4961\n",
      "    positive       0.88      0.85      0.87      5039\n",
      "\n",
      "    accuracy                           0.87     10000\n",
      "   macro avg       0.87      0.87      0.87     10000\n",
      "weighted avg       0.87      0.87      0.87     10000\n",
      "\n"
     ]
    }
   ],
   "source": [
    "# Training the  Naive Bayes classifier model on the vectorized training data\n",
    "naive_bayes_classifier = MultinomialNB()\n",
    "naive_bayes_classifier.fit(X_train_tfidf, y_train)\n",
    "\n",
    "# Making predictions on the testing set\n",
    "y_pred = naive_bayes_classifier.predict(X_test_tfidf)\n",
    "\n",
    "# Evaluating the model performance\n",
    "accuracy = accuracy_score(y_test, y_pred)\n",
    "print(f\"Accuracy: {accuracy:.2f}\")\n",
    "\n",
    "# Print classification report\n",
    "print(classification_report(y_test, y_pred))\n",
    "\n",
    "\n"
   ]
  },
  {
   "cell_type": "markdown",
   "id": "179c176e",
   "metadata": {},
   "source": [
    "The initial naive bayes model performed quite well with an accuracy of 87% on the test data set. The precision and recall values are also quite good."
   ]
  },
  {
   "cell_type": "code",
   "execution_count": 42,
   "id": "5a4221e7",
   "metadata": {},
   "outputs": [
    {
     "name": "stdout",
     "output_type": "stream",
     "text": [
      "Predicted Sentiment: negative\n"
     ]
    }
   ],
   "source": [
    "# Testing the data on new data\n",
    "new_review = \"This movie is bad! I hated it.\"\n",
    "\n",
    "# Preprocess the new review and convert it to TF-IDF representation\n",
    "new_review_tfidf = tfidf_vectorizer.transform([new_review])\n",
    "\n",
    "# Predict the sentiment of the new review\n",
    "predicted_sentiment = naive_bayes_classifier.predict(new_review_tfidf)\n",
    "\n",
    "print(f\"Predicted Sentiment: {predicted_sentiment[0]}\")"
   ]
  },
  {
   "cell_type": "code",
   "execution_count": 43,
   "id": "cfa1e85c",
   "metadata": {},
   "outputs": [
    {
     "data": {
      "text/plain": [
       "SVC(kernel='linear')"
      ]
     },
     "execution_count": 43,
     "metadata": {},
     "output_type": "execute_result"
    }
   ],
   "source": [
    "#Building a SVM model\n",
    "from sklearn.svm import SVC\n",
    "svm_model = SVC(kernel=\"linear\")\n",
    "svm_model.fit(X_train_tfidf, y_train)"
   ]
  },
  {
   "cell_type": "code",
   "execution_count": 44,
   "id": "05b8bc66",
   "metadata": {},
   "outputs": [],
   "source": [
    "y_pred = svm_model.predict(X_test_tfidf)"
   ]
  },
  {
   "cell_type": "code",
   "execution_count": 45,
   "id": "7076052b",
   "metadata": {},
   "outputs": [
    {
     "name": "stdout",
     "output_type": "stream",
     "text": [
      "Accuracy of the SVM: 0.8967\n",
      "Classification report of the SVM:\n",
      "               precision    recall  f1-score   support\n",
      "\n",
      "    negative       0.91      0.88      0.89      4961\n",
      "    positive       0.89      0.91      0.90      5039\n",
      "\n",
      "    accuracy                           0.90     10000\n",
      "   macro avg       0.90      0.90      0.90     10000\n",
      "weighted avg       0.90      0.90      0.90     10000\n",
      "\n"
     ]
    }
   ],
   "source": [
    "#Evaluating the model performance\n",
    "accuracy = accuracy_score(y_test, y_pred)\n",
    "classification_report = classification_report(y_test, y_pred)\n",
    "\n",
    "print(f\"Accuracy of the SVM: {accuracy}\")\n",
    "print(f\"Classification report of the SVM:\\n {classification_report}\")"
   ]
  },
  {
   "cell_type": "code",
   "execution_count": null,
   "id": "cefd6c09",
   "metadata": {},
   "outputs": [],
   "source": []
  }
 ],
 "metadata": {
  "kernelspec": {
   "display_name": "Python 3 (ipykernel)",
   "language": "python",
   "name": "python3"
  },
  "language_info": {
   "codemirror_mode": {
    "name": "ipython",
    "version": 3
   },
   "file_extension": ".py",
   "mimetype": "text/x-python",
   "name": "python",
   "nbconvert_exporter": "python",
   "pygments_lexer": "ipython3",
   "version": "3.9.9"
  }
 },
 "nbformat": 4,
 "nbformat_minor": 5
}
